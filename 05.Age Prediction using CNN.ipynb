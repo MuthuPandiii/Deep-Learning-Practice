{
 "cells": [
  {
   "cell_type": "code",
   "execution_count": 3,
   "id": "688a4788",
   "metadata": {},
   "outputs": [],
   "source": [
    "import tensorflow as tf\n",
    "import numpy as np\n",
    "import os\n",
    "import scipy.io\n",
    "import datetime"
   ]
  },
  {
   "cell_type": "code",
   "execution_count": 9,
   "id": "497000e2",
   "metadata": {},
   "outputs": [
    {
     "name": "stdout",
     "output_type": "stream",
     "text": [
      "Epoch 1/10\n",
      "1169/1169 [==============================] - 880s 750ms/step - loss: 14.2836 - MAE: 14.2836 - val_loss: 12.8063 - val_MAE: 12.8063\n",
      "Epoch 2/10\n",
      "1169/1169 [==============================] - 834s 713ms/step - loss: 13.6484 - MAE: 13.6484 - val_loss: 12.8412 - val_MAE: 12.8412\n",
      "Epoch 3/10\n",
      "1169/1169 [==============================] - 1374s 1s/step - loss: 13.3681 - MAE: 13.3681 - val_loss: 12.6993 - val_MAE: 12.6993\n",
      "Epoch 4/10\n",
      "1169/1169 [==============================] - 686s 587ms/step - loss: 13.0971 - MAE: 13.0971 - val_loss: 12.1668 - val_MAE: 12.1668\n",
      "Epoch 5/10\n",
      "1169/1169 [==============================] - 693s 593ms/step - loss: 12.6639 - MAE: 12.6639 - val_loss: 11.9663 - val_MAE: 11.9663\n",
      "Epoch 6/10\n",
      "1169/1169 [==============================] - 688s 588ms/step - loss: 12.2932 - MAE: 12.2932 - val_loss: 11.7508 - val_MAE: 11.7508\n",
      "Epoch 7/10\n",
      "1169/1169 [==============================] - 689s 590ms/step - loss: 12.0948 - MAE: 12.0948 - val_loss: 11.6755 - val_MAE: 11.6755\n",
      "Epoch 8/10\n",
      "1169/1169 [==============================] - 693s 593ms/step - loss: 11.9282 - MAE: 11.9282 - val_loss: 11.6185 - val_MAE: 11.6185\n",
      "Epoch 9/10\n",
      "1169/1169 [==============================] - 690s 590ms/step - loss: 11.8283 - MAE: 11.8283 - val_loss: 11.5265 - val_MAE: 11.5265\n",
      "Epoch 10/10\n",
      "1169/1169 [==============================] - 701s 599ms/step - loss: 11.6735 - MAE: 11.6735 - val_loss: 11.5004 - val_MAE: 11.5004\n",
      "390/390 [==============================] - 64s 123ms/step - loss: 11.6357 - MAE: 11.6357\n",
      "\n",
      "\n",
      "Loss : 11.635746955871582 ; Accuracy : 11.635746955871582\n"
     ]
    }
   ],
   "source": [
    "url = 'https://data.vision.ee.ethz.ch/cvl/rrothe/imdb-wiki/static/wiki_crop.tar'\n",
    "\n",
    "data = tf.keras.utils.get_file(\"wiki_crop\",\n",
    "                              url,untar=True,cache_dir='.',cache_subdir='')\n",
    "\n",
    "dataset_dir = os.path.join(os.path.dirname(data),\"wiki_crop/\")\n",
    "mat = scipy.io.loadmat(os.path.join(dataset_dir,'wiki.mat'))\n",
    "\n",
    "dob = np.vectorize(lambda x : datetime.datetime.fromordinal(x).year)(mat[\"wiki\"][\"dob\"][0][0][0])\n",
    "photo_taken = mat[\"wiki\"][\"photo_taken\"][0][0][0]\n",
    "age = (photo_taken - dob).astype(np.float32)\n",
    "\n",
    "file_path = np.vectorize(lambda x : os.path.join(dataset_dir,x[0]))(mat[\"wiki\"][\"full_path\"][0][0][0])\n",
    "\n",
    "file_age_ds = tf.data.Dataset.from_tensor_slices((file_path,age))\n",
    "\n",
    "def parse_function(filename,label):\n",
    "    img_string = tf.io.read_file(filename)\n",
    "    img_decoded = tf.io.decode_jpeg(img_string,channels=1)\n",
    "    img = tf.image.resize(img_decoded,[256,256])\n",
    "    return img,tf.expand_dims(label,0)\n",
    "\n",
    "image_age_ds = file_age_ds.map(parse_function).shuffle(buffer_size=64,seed=2)\n",
    "\n",
    "data_size = image_age_ds.cardinality().numpy()\n",
    "AUTOTUNE = tf.data.AUTOTUNE\n",
    "\n",
    "train_ds = image_age_ds.take(data_size*0.6).batch(32).prefetch(AUTOTUNE)\n",
    "val_ds = image_age_ds.skip(data_size * 0.6).batch(32).prefetch(AUTOTUNE)\n",
    "test_ds= image_age_ds.skip(data_size*0.8).batch(32).prefetch(AUTOTUNE)\n",
    "\n",
    "model = tf.keras.Sequential([\n",
    "    tf.keras.layers.Conv2D(32,(7,7),activation=\"relu\",input_shape = (256,256,1)),\n",
    "    tf.keras.layers.MaxPool2D((4,4),strides=4),\n",
    "    tf.keras.layers.Conv2D(64,(3,3),activation=\"relu\"),\n",
    "    tf.keras.layers.MaxPool2D((4,4),strides=4),\n",
    "    tf.keras.layers.Conv2D(128,(3,3),activation=\"relu\"),\n",
    "    tf.keras.layers.MaxPool2D((3,3),strides=3),\n",
    "    tf.keras.layers.Conv2D(256,(1,1),activation=\"relu\"),\n",
    "    tf.keras.layers.MaxPool2D((2,2),strides=2),\n",
    "    tf.keras.layers.Flatten(),\n",
    "    tf.keras.layers.Dense(64,activation=\"relu\"),\n",
    "    tf.keras.layers.Dense(1)\n",
    "])\n",
    "\n",
    "model.compile(optimizer = \"adam\",loss = tf.keras.losses.MeanAbsoluteError(),metrics=['MAE'])\n",
    "\n",
    "model.fit(train_ds,validation_data=val_ds,epochs=10)\n",
    "\n",
    "loss,accuracy = model.evaluate(test_ds)\n",
    "print(\"\\n\")\n",
    "print(f\"Loss : {loss} ; Accuracy : {accuracy}\")"
   ]
  },
  {
   "cell_type": "code",
   "execution_count": null,
   "id": "b9684cf4",
   "metadata": {},
   "outputs": [],
   "source": []
  },
  {
   "cell_type": "code",
   "execution_count": null,
   "id": "f9672eaf",
   "metadata": {},
   "outputs": [],
   "source": []
  },
  {
   "cell_type": "code",
   "execution_count": null,
   "id": "cce74fb8",
   "metadata": {},
   "outputs": [],
   "source": []
  },
  {
   "cell_type": "code",
   "execution_count": null,
   "id": "f7fd5d86",
   "metadata": {},
   "outputs": [],
   "source": []
  },
  {
   "cell_type": "code",
   "execution_count": null,
   "id": "cc9a1a92",
   "metadata": {},
   "outputs": [],
   "source": []
  },
  {
   "cell_type": "code",
   "execution_count": null,
   "id": "3035e154",
   "metadata": {},
   "outputs": [],
   "source": []
  },
  {
   "cell_type": "code",
   "execution_count": null,
   "id": "c7511c2a",
   "metadata": {},
   "outputs": [],
   "source": []
  },
  {
   "cell_type": "code",
   "execution_count": null,
   "id": "1f1c7d6e",
   "metadata": {},
   "outputs": [],
   "source": []
  },
  {
   "cell_type": "code",
   "execution_count": null,
   "id": "e48ea944",
   "metadata": {},
   "outputs": [],
   "source": []
  },
  {
   "cell_type": "code",
   "execution_count": null,
   "id": "48ac495e",
   "metadata": {},
   "outputs": [],
   "source": []
  },
  {
   "cell_type": "code",
   "execution_count": null,
   "id": "b1e1a9c5",
   "metadata": {},
   "outputs": [],
   "source": []
  },
  {
   "cell_type": "code",
   "execution_count": null,
   "id": "87400092",
   "metadata": {},
   "outputs": [],
   "source": []
  },
  {
   "cell_type": "code",
   "execution_count": null,
   "id": "7c39c75c",
   "metadata": {},
   "outputs": [],
   "source": []
  },
  {
   "cell_type": "code",
   "execution_count": null,
   "id": "1f33235e",
   "metadata": {},
   "outputs": [],
   "source": []
  },
  {
   "cell_type": "code",
   "execution_count": null,
   "id": "3b89575b",
   "metadata": {},
   "outputs": [],
   "source": []
  },
  {
   "cell_type": "code",
   "execution_count": null,
   "id": "2c4636af",
   "metadata": {},
   "outputs": [],
   "source": []
  },
  {
   "cell_type": "code",
   "execution_count": null,
   "id": "7292a89b",
   "metadata": {},
   "outputs": [],
   "source": []
  },
  {
   "cell_type": "code",
   "execution_count": null,
   "id": "c4248957",
   "metadata": {},
   "outputs": [],
   "source": []
  }
 ],
 "metadata": {
  "kernelspec": {
   "display_name": "Python 3 (ipykernel)",
   "language": "python",
   "name": "python3"
  },
  "language_info": {
   "codemirror_mode": {
    "name": "ipython",
    "version": 3
   },
   "file_extension": ".py",
   "mimetype": "text/x-python",
   "name": "python",
   "nbconvert_exporter": "python",
   "pygments_lexer": "ipython3",
   "version": "3.10.8"
  }
 },
 "nbformat": 4,
 "nbformat_minor": 5
}
